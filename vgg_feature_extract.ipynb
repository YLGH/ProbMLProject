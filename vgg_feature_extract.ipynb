{
 "cells": [
  {
   "cell_type": "code",
   "execution_count": 35,
   "metadata": {},
   "outputs": [],
   "source": [
    "from keras.applications.vgg19 import VGG19\n",
    "from keras.preprocessing import image as k_image\n",
    "from keras.applications.vgg19 import preprocess_input\n",
    "from keras.models import Model\n",
    "import numpy as np\n",
    "from keras.utils import plot_model\n",
    "\n",
    "import matplotlib.pyplot as plt\n",
    "import matplotlib.image as mpimg\n",
    "import math\n",
    "import h5py\n",
    "\n",
    "import os\n",
    "import random\n",
    "import pandas\n",
    "import time\n",
    "\n",
    "import collections"
   ]
  },
  {
   "cell_type": "code",
   "execution_count": 36,
   "metadata": {},
   "outputs": [],
   "source": [
    "base_model = VGG19(weights='imagenet')"
   ]
  },
  {
   "cell_type": "code",
   "execution_count": 3,
   "metadata": {},
   "outputs": [],
   "source": [
    "model_1 = Model(inputs=base_model.input, outputs=base_model.get_layer('block1_pool').output)\n",
    "model_2 = Model(inputs=base_model.input, outputs=base_model.get_layer('block2_pool').output)\n",
    "model_3 = Model(inputs=base_model.input, outputs=base_model.get_layer('block3_pool').output)\n",
    "model_4 = Model(inputs=base_model.input, outputs=base_model.get_layer('block4_pool').output)\n",
    "model_5 = Model(inputs=base_model.input, outputs=base_model.get_layer('block5_pool').output)"
   ]
  },
  {
   "cell_type": "code",
   "execution_count": 65,
   "metadata": {},
   "outputs": [
    {
     "name": "stdout",
     "output_type": "stream",
     "text": [
      "<keras.engine.training.Model object at 0x138dcfd30>\n"
     ]
    }
   ],
   "source": []
  },
  {
   "cell_type": "code",
   "execution_count": 6,
   "metadata": {},
   "outputs": [],
   "source": [
    "def get_block_features(img_path, model_):\n",
    "    img = k_image.load_img(img_path, target_size=(224, 224))\n",
    "    x = k_image.img_to_array(img)\n",
    "    x = np.expand_dims(x, axis=0)\n",
    "    y = x\n",
    "    x = preprocess_input(x)\n",
    "    print(x.shape)\n",
    "    return y, model_.predict(x)\n",
    "\n",
    "#     block1_pool_features = model_1.predict(x)\n",
    "#     block2_pool_features = model_2.predict(x)\n",
    "#     block3_pool_features = model_3.predict(x)\n",
    "#     block4_pool_features = model_4.predict(x)\n",
    "#     block5_pool_features = model_5.predict(x)\n",
    "    \n",
    "#     return (block1_pool_features,\n",
    "#             block2_pool_features,\n",
    "#             block3_pool_features,\n",
    "#             block4_pool_features,\n",
    "#             block5_pool_features)\n"
   ]
  },
  {
   "cell_type": "code",
   "execution_count": 44,
   "metadata": {},
   "outputs": [
    {
     "name": "stdout",
     "output_type": "stream",
     "text": [
      "1055.9451739788055\n"
     ]
    }
   ],
   "source": [
    "foo = random.sample(os.listdir('yelp_photos/photos'), 1000)\n",
    "images = []\n",
    "block_features = []\n",
    "s_t = time.time()\n",
    "for img_path in foo:\n",
    "    image, block_feature = get_block_features('yelp_photos/photos/'+img_path, model_5)\n",
    "    images.append(image)\n",
    "    block_features.append(block_feature)\n",
    "print(time.time()-s_t)"
   ]
  },
  {
   "cell_type": "code",
   "execution_count": 66,
   "metadata": {},
   "outputs": [
    {
     "ename": "TypeError",
     "evalue": "Error when checking model : data should be a Numpy array, or list/dict of Numpy arrays. Found: yelp_photos/photos/mgrsnF_xwXOF3DzuxvinqA.jpg...",
     "output_type": "error",
     "traceback": [
      "\u001b[0;31m---------------------------------------------------------------------------\u001b[0m",
      "\u001b[0;31mTypeError\u001b[0m                                 Traceback (most recent call last)",
      "\u001b[0;32m<ipython-input-66-d721a4e53711>\u001b[0m in \u001b[0;36m<module>\u001b[0;34m()\u001b[0m\n\u001b[0;32m----> 1\u001b[0;31m \u001b[0mprint\u001b[0m\u001b[0;34m(\u001b[0m\u001b[0mmodel_5\u001b[0m\u001b[0;34m.\u001b[0m\u001b[0mpredict\u001b[0m\u001b[0;34m(\u001b[0m\u001b[0;34m'yelp_photos/photos/'\u001b[0m \u001b[0;34m+\u001b[0m \u001b[0mfoo\u001b[0m\u001b[0;34m[\u001b[0m\u001b[0;36m0\u001b[0m\u001b[0;34m]\u001b[0m\u001b[0;34m)\u001b[0m\u001b[0;34m.\u001b[0m\u001b[0mshape\u001b[0m\u001b[0;34m)\u001b[0m\u001b[0;34m\u001b[0m\u001b[0m\n\u001b[0m",
      "\u001b[0;32m/usr/local/lib/python3.6/site-packages/keras/engine/training.py\u001b[0m in \u001b[0;36mpredict\u001b[0;34m(self, x, batch_size, verbose, steps)\u001b[0m\n\u001b[1;32m   1693\u001b[0m         x = _standardize_input_data(x, self._feed_input_names,\n\u001b[1;32m   1694\u001b[0m                                     \u001b[0mself\u001b[0m\u001b[0;34m.\u001b[0m\u001b[0m_feed_input_shapes\u001b[0m\u001b[0;34m,\u001b[0m\u001b[0;34m\u001b[0m\u001b[0m\n\u001b[0;32m-> 1695\u001b[0;31m                                     check_batch_axis=False)\n\u001b[0m\u001b[1;32m   1696\u001b[0m         \u001b[0;32mif\u001b[0m \u001b[0mself\u001b[0m\u001b[0;34m.\u001b[0m\u001b[0mstateful\u001b[0m\u001b[0;34m:\u001b[0m\u001b[0;34m\u001b[0m\u001b[0m\n\u001b[1;32m   1697\u001b[0m             \u001b[0;32mif\u001b[0m \u001b[0mx\u001b[0m\u001b[0;34m[\u001b[0m\u001b[0;36m0\u001b[0m\u001b[0;34m]\u001b[0m\u001b[0;34m.\u001b[0m\u001b[0mshape\u001b[0m\u001b[0;34m[\u001b[0m\u001b[0;36m0\u001b[0m\u001b[0;34m]\u001b[0m \u001b[0;34m>\u001b[0m \u001b[0mbatch_size\u001b[0m \u001b[0;32mand\u001b[0m \u001b[0mx\u001b[0m\u001b[0;34m[\u001b[0m\u001b[0;36m0\u001b[0m\u001b[0;34m]\u001b[0m\u001b[0;34m.\u001b[0m\u001b[0mshape\u001b[0m\u001b[0;34m[\u001b[0m\u001b[0;36m0\u001b[0m\u001b[0;34m]\u001b[0m \u001b[0;34m%\u001b[0m \u001b[0mbatch_size\u001b[0m \u001b[0;34m!=\u001b[0m \u001b[0;36m0\u001b[0m\u001b[0;34m:\u001b[0m\u001b[0;34m\u001b[0m\u001b[0m\n",
      "\u001b[0;32m/usr/local/lib/python3.6/site-packages/keras/engine/training.py\u001b[0m in \u001b[0;36m_standardize_input_data\u001b[0;34m(data, names, shapes, check_batch_axis, exception_prefix)\u001b[0m\n\u001b[1;32m    102\u001b[0m                             \u001b[0;34m': data should be a Numpy array, '\u001b[0m\u001b[0;34m\u001b[0m\u001b[0m\n\u001b[1;32m    103\u001b[0m                             \u001b[0;34m'or list/dict of Numpy arrays. '\u001b[0m\u001b[0;34m\u001b[0m\u001b[0m\n\u001b[0;32m--> 104\u001b[0;31m                             'Found: ' + str(data)[:200] + '...')\n\u001b[0m\u001b[1;32m    105\u001b[0m         \u001b[0;32mif\u001b[0m \u001b[0mlen\u001b[0m\u001b[0;34m(\u001b[0m\u001b[0mnames\u001b[0m\u001b[0;34m)\u001b[0m \u001b[0;34m>\u001b[0m \u001b[0;36m1\u001b[0m\u001b[0;34m:\u001b[0m\u001b[0;34m\u001b[0m\u001b[0m\n\u001b[1;32m    106\u001b[0m             \u001b[0;31m# Case: model expects multiple inputs but only received\u001b[0m\u001b[0;34m\u001b[0m\u001b[0;34m\u001b[0m\u001b[0m\n",
      "\u001b[0;31mTypeError\u001b[0m: Error when checking model : data should be a Numpy array, or list/dict of Numpy arrays. Found: yelp_photos/photos/mgrsnF_xwXOF3DzuxvinqA.jpg..."
     ]
    }
   ],
   "source": []
  },
  {
   "cell_type": "code",
   "execution_count": 8,
   "metadata": {},
   "outputs": [],
   "source": [
    "def get_index_by_convolution(block_features):\n",
    "    foo = block_features\n",
    "    foo = np.swapaxes(foo, 1, 2)\n",
    "    foo = np.swapaxes(foo, 1, 3)\n",
    "    return foo[0]\n",
    "\n",
    "def get_max_values(block_features):\n",
    "    block_features_ = \\\n",
    "        np.resize(block_features, (block_features.shape[0], block_features.shape[1]*block_features.shape[2]))\n",
    "    return block_features_.max(axis=1)\n",
    "\n",
    "def get_df_from_blocks(blocks):\n",
    "    dataframe = []\n",
    "    for doc_index, block in enumerate(blocks):\n",
    "        block = get_index_by_convolution(block)\n",
    "        max_values = get_max_values(block)\n",
    "        for pool_index, pool_feature in enumerate(max_values):\n",
    "            dataframe.append({'doc_id':doc_index, \n",
    "                              'word_id': pool_index, \n",
    "                              'count': pool_feature})\n",
    "\n",
    "    return pandas.DataFrame(dataframe)\n"
   ]
  },
  {
   "cell_type": "code",
   "execution_count": 10,
   "metadata": {},
   "outputs": [],
   "source": [
    "def bmm_gibbs(doc_label, word_id, count, W, α, γ, K):\n",
    "    # doc_labels = distinct values of doc_label\n",
    "    # doc_index = a list as long as doc_label\n",
    "    #             such that doc_labels[doc_index[j]] = doc_label[j]\n",
    "    doc_labels, doc_index = np.unique(doc_label, return_inverse=True)\n",
    "\n",
    "    # z[i] = class of document i, where i enumerates the distinct doc_labels\n",
    "    # doc_count[k] = number of documents of class k\n",
    "    z = np.random.choice(K, len(doc_labels))\n",
    "    doc_count = np.zeros(K, dtype=int)\n",
    "    for k in z: doc_count[k] += 1\n",
    "\n",
    "    # occurrences[k,w] = number of occurrences of word_id w in documents of class k\n",
    "    # word_count[k] = total number of words in documents of class k\n",
    "    x = pandas.DataFrame({'doc_class': z[doc_index], 'word_id': word_id, 'count': count}) \\\n",
    "        .groupby(['doc_class', 'word_id']) \\\n",
    "        ['count'].apply(sum) \\\n",
    "        .unstack(fill_value=0)\n",
    "    occurrences = np.zeros((K, W))\n",
    "    occurrences[x.index.values.reshape((-1,1)), x.columns.values] = x\n",
    "    word_count = np.sum(occurrences, axis=1)\n",
    "\n",
    "    while True:\n",
    "        for i in range(len(doc_labels)):\n",
    "    \n",
    "            # get the words,counts for document i\n",
    "            # and remove this document from the counts\n",
    "            w,c = word_id[doc_index==i].values, count[doc_index==i].values\n",
    "            occurrences[z[i], w] -= c\n",
    "            word_count[z[i]] -= sum(c)\n",
    "            doc_count[z[i]] -= 1\n",
    "\n",
    "            # Find the log probability that this document belongs to class k, marginalized over θ and β\n",
    "        \n",
    "            logp = np.zeros(K)\n",
    "            \n",
    "            for k in range(K):\n",
    "                logp[k] = (c*(np.log(occurrences[k,w] + γ)-np.log(W*γ + word_count[k]))).sum()\n",
    "                logp[k] += np.log(doc_count[k] + α)\n",
    "                \n",
    "            p = np.exp(logp - np.max(logp))\n",
    "            p = p/sum(p)\n",
    "\n",
    "            # Assign this document to a new class, chosen randomly, and add back the counts\n",
    "            k = np.random.choice(K, p=p)\n",
    "            z[i] = k\n",
    "            occurrences[k, w] += c\n",
    "            word_count[k] += sum(c)\n",
    "            doc_count[k] += 1\n",
    "\n",
    "        yield np.copy(z), np.copy(occurrences)"
   ]
  },
  {
   "cell_type": "code",
   "execution_count": 45,
   "metadata": {},
   "outputs": [],
   "source": [
    "A = get_df_from_blocks(block_features)"
   ]
  },
  {
   "cell_type": "code",
   "execution_count": 56,
   "metadata": {},
   "outputs": [],
   "source": [
    "g = bmm_gibbs(A['doc_id'], A['word_id'], A['count'], W=512, α=10, γ=.1, K=20)\n",
    "NUM_ITERATIONS = 20\n",
    "res = np.stack([next(g)[0] for _ in range(NUM_ITERATIONS)])\n",
    "# this produces a matrix with one row per iteration and a column for each unique doc_id\n",
    "# converged_topic_distribution, converged_word_distribution = res[-1]"
   ]
  },
  {
   "cell_type": "code",
   "execution_count": 58,
   "metadata": {},
   "outputs": [],
   "source": [
    "def show_images(images, savepath, cols = 1, titles = None):\n",
    "    \"\"\"Display a list of images in a single figure with matplotlib.\n",
    "    \n",
    "    Parameters\n",
    "    ---------\n",
    "    images: List of np.arrays compatible with plt.imshow.\n",
    "    \n",
    "    cols (Default = 1): Number of columns in figure (number of rows is \n",
    "                        set to np.ceil(n_images/float(cols))).\n",
    "    \n",
    "    titles: List of titles corresponding to each image. Must have\n",
    "            the same length as titles.\n",
    "    \"\"\"\n",
    "    assert((titles is None)or (len(images) == len(titles)))\n",
    "    n_images = len(images)\n",
    "    if titles is None: titles = ['Image (%d)' % i for i in range(1,n_images + 1)]\n",
    "    fig = plt.figure()\n",
    "    for n, (image, title) in enumerate(zip(images, titles)):\n",
    "        a = fig.add_subplot(cols, np.ceil(n_images/float(cols)), n + 1)\n",
    "        if image.ndim == 2:\n",
    "            plt.gray()\n",
    "        plt.imshow(image)\n",
    "        a.set_title(title)\n",
    "    fig.set_size_inches(np.array(fig.get_size_inches()) * n_images)\n",
    "#     plt.show()\n",
    "    plt.savefig(savepath, bbox_inches='tight')\n",
    "    plt.close()"
   ]
  },
  {
   "cell_type": "code",
   "execution_count": 59,
   "metadata": {},
   "outputs": [],
   "source": [
    "a = np.array(res[-1])\n",
    "topic_to_index = {}\n",
    "\n",
    "for img_index, topic in enumerate(res[-1]):\n",
    "    if topic in topic_to_index:\n",
    "        topic_to_index[topic].append(img_index)\n",
    "    else:\n",
    "        topic_to_index[topic] = [img_index]"
   ]
  },
  {
   "cell_type": "code",
   "execution_count": 62,
   "metadata": {},
   "outputs": [
    {
     "name": "stdout",
     "output_type": "stream",
     "text": [
      "3 227\n",
      "8 116\n",
      "15 99\n",
      "7 53\n",
      "6 142\n",
      "4 95\n",
      "11 174\n",
      "5 48\n",
      "19 33\n",
      "14 1\n",
      "12 1\n",
      "17 1\n",
      "10 4\n",
      "1 1\n",
      "16 1\n",
      "2 1\n",
      "9 1\n",
      "0 1\n",
      "18 1\n"
     ]
    }
   ],
   "source": [
    "plt.close('all')\n",
    "for topic in topic_to_index:\n",
    "    print(topic, len(topic_to_index[topic]))\n",
    "    img_to_show = []\n",
    "    for images_index in topic_to_index[topic]:\n",
    "        img_path = foo[images_index]\n",
    "        path = 'yelp_photos/photos/'+img_path\n",
    "        img=mpimg.imread(path)\n",
    "        img_to_show.append(img)\n",
    "    if(len(img_to_show) > 16):\n",
    "        img_to_show = random.sample(img_to_show, 16)\n",
    "    \n",
    "    num_cols = math.ceil(math.sqrt(len(img_to_show)))\n",
    "    show_images(img_to_show, savepath='class_img/class_'+str(topic)+'.png', cols=num_cols)\n",
    "        \n",
    "        "
   ]
  },
  {
   "cell_type": "code",
   "execution_count": null,
   "metadata": {},
   "outputs": [],
   "source": [
    "agree = []\n",
    "for i,r in enumerate(res):\n",
    "    if i > 0:\n",
    "        agree.append((np.equal(res[i][0], res[i-1][0])).sum())\n",
    "plt.plot(range(len(agree)), agree)"
   ]
  },
  {
   "cell_type": "code",
   "execution_count": null,
   "metadata": {},
   "outputs": [],
   "source": []
  }
 ],
 "metadata": {
  "kernelspec": {
   "display_name": "Python 3",
   "language": "python",
   "name": "python3"
  },
  "language_info": {
   "codemirror_mode": {
    "name": "ipython",
    "version": 3
   },
   "file_extension": ".py",
   "mimetype": "text/x-python",
   "name": "python",
   "nbconvert_exporter": "python",
   "pygments_lexer": "ipython3",
   "version": "3.6.3"
  }
 },
 "nbformat": 4,
 "nbformat_minor": 2
}
